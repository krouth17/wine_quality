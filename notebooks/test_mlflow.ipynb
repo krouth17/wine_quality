{
 "cells": [
  {
   "cell_type": "code",
   "execution_count": 1,
   "id": "72fafdd9-f61b-4049-99ff-fd73e4c4322f",
   "metadata": {},
   "outputs": [],
   "source": [
    "import os\n",
    "import mlflow"
   ]
  },
  {
   "cell_type": "code",
   "execution_count": 18,
   "id": "6ea5c9fc-10b4-4a56-926f-951ba297071c",
   "metadata": {},
   "outputs": [],
   "source": [
    "import os\n",
    "import warnings\n",
    "import sys\n",
    "\n",
    "import pandas as pd\n",
    "import numpy as np\n",
    "from sklearn.metrics import mean_squared_error, mean_absolute_error, r2_score\n",
    "from sklearn.model_selection import train_test_split\n",
    "from sklearn.linear_model import ElasticNet,LinearRegression\n",
    "from urllib.parse import urlparse\n",
    "import mlflow\n",
    "import mlflow.sklearn"
   ]
  },
  {
   "cell_type": "code",
   "execution_count": 4,
   "id": "10b1cfc9-29bb-4a32-8de9-f4c055d7f77d",
   "metadata": {},
   "outputs": [],
   "source": [
    "import logging\n",
    "\n",
    "logging.basicConfig(level=logging.WARN)\n",
    "logger = logging.getLogger(__name__)"
   ]
  },
  {
   "cell_type": "code",
   "execution_count": 6,
   "id": "849fbfbf-cc00-4b79-9b1e-3bfcacda4ac1",
   "metadata": {},
   "outputs": [],
   "source": [
    "def eval_metrics(actual, pred):\n",
    "    rmse = np.sqrt(mean_squared_error(actual, pred))\n",
    "    mae = mean_absolute_error(actual, pred)\n",
    "    r2 = r2_score(actual, pred)\n",
    "    mape = mean_absolute_percentage_error(actual, pred)\n",
    "    return rmse, mae, r2, mape"
   ]
  },
  {
   "cell_type": "code",
   "execution_count": 7,
   "id": "433c1420-fcf2-4a8b-a86c-d432a7d7e163",
   "metadata": {},
   "outputs": [],
   "source": [
    "def mean_absolute_percentage_error(y_true, y_pred): \n",
    "    y_true, y_pred = np.array(y_true), np.array(y_pred)\n",
    "    return np.mean(np.abs((y_true - y_pred) / y_true)) * 100"
   ]
  },
  {
   "cell_type": "code",
   "execution_count": 21,
   "id": "3ae641ef-3983-4d28-82ba-334c9af80b78",
   "metadata": {},
   "outputs": [
    {
     "name": "stdout",
     "output_type": "stream",
     "text": [
      "Elasticnet model (alpha=0.500000, l1_ratio=0.500000):\n",
      "  RMSE: 0.6603811224461619\n",
      "  MAE: 0.5073644199888924\n",
      "  R2: 0.3820931219110161\n",
      "  MAPE: 9.198541179272663\n"
     ]
    }
   ],
   "source": [
    "if __name__ == \"__main__\":\n",
    "    warnings.filterwarnings(\"ignore\")\n",
    "    np.random.seed(40)\n",
    "    \n",
    "    csv_url = (\n",
    "        \"http://archive.ics.uci.edu/ml/machine-learning-databases/wine-quality/winequality-red.csv\"\n",
    "    )\n",
    "    try:\n",
    "        data = pd.read_csv(csv_url, sep=\";\")\n",
    "    except Exception as e:\n",
    "        logger.exception(\n",
    "            \"Unable to download training & test CSV, check your internet connection. Error: %s\", e\n",
    "        )\n",
    "    \n",
    "    train, test = train_test_split(data)\n",
    "\n",
    "    # The predicted column is \"quality\" which is a scalar from [3, 9]\n",
    "    train_x = train.drop([\"quality\"], axis=1)\n",
    "    test_x = test.drop([\"quality\"], axis=1)\n",
    "    train_y = train[[\"quality\"]]\n",
    "    test_y = test[[\"quality\"]]\n",
    "    \n",
    "    alpha = 0.5\n",
    "    l1_ratio = 0.5\n",
    "    \n",
    "    with mlflow.start_run():\n",
    "        lr = LinearRegression()\n",
    "        lr.fit(train_x, train_y)\n",
    "\n",
    "        predicted_qualities = lr.predict(test_x)\n",
    "\n",
    "        (rmse, mae, r2, mape) = eval_metrics(test_y, predicted_qualities)\n",
    "\n",
    "        print(\"Elasticnet model (alpha=%f, l1_ratio=%f):\" % (alpha, l1_ratio))\n",
    "        print(\"  RMSE: %s\" % rmse)\n",
    "        print(\"  MAE: %s\" % mae)\n",
    "        print(\"  R2: %s\" % r2)\n",
    "        print(\"  MAPE: %s\" % mape)    \n",
    "\n",
    "\n",
    "        mlflow.log_param(\"alpha\", alpha)\n",
    "        mlflow.log_param(\"l1_ratio\", l1_ratio)\n",
    "        mlflow.log_metric(\"rmse\", rmse)\n",
    "        mlflow.log_metric(\"r2\", r2)\n",
    "        mlflow.log_metric(\"mae\", mae)\n",
    "        mlflow.log_metric(\"mape\", mape)\n",
    "        \n",
    "        tracking_url_type_store = urlparse(mlflow.get_tracking_uri()).scheme\n",
    "        \n",
    "        if tracking_url_type_store != \"file\":\n",
    "\n",
    "            # Register the model\n",
    "            # There are other ways to use the Model Registry, which depends on the use case,\n",
    "            # please refer to the doc for more information:\n",
    "            # https://mlflow.org/docs/latest/model-registry.html#api-workflow\n",
    "            mlflow.sklearn.log_model(lr, \"model\", registered_model_name=\"ElasticnetWineModel\")\n",
    "        else:\n",
    "            mlflow.sklearn.log_model(lr, \"model\")"
   ]
  },
  {
   "cell_type": "code",
   "execution_count": 22,
   "id": "a6c40bd7-9df5-4e51-8468-3f99b4a368a8",
   "metadata": {},
   "outputs": [
    {
     "name": "stdout",
     "output_type": "stream",
     "text": [
      "[2021-04-21 16:48:55 +0530] [1684] [INFO] Starting gunicorn 20.1.0\n",
      "[2021-04-21 16:48:55 +0530] [1684] [INFO] Listening at: http://127.0.0.1:5000 (1684)\n",
      "[2021-04-21 16:48:55 +0530] [1684] [INFO] Using worker: sync\n",
      "[2021-04-21 16:48:55 +0530] [1687] [INFO] Booting worker with pid: 1687\n",
      "WARNING:root:Malformed run '.ipynb_checkpoints'. Detailed error Yaml file './mlruns/0/.ipynb_checkpoints/meta.yaml' does not exist.\n",
      "Traceback (most recent call last):\n",
      "  File \"/home/tiger0xxx/miniconda3/envs/wq/lib/python3.7/site-packages/mlflow/store/tracking/file_store.py\", line 697, in _list_run_infos\n",
      "    run_info = self._get_run_info_from_dir(r_dir)\n",
      "  File \"/home/tiger0xxx/miniconda3/envs/wq/lib/python3.7/site-packages/mlflow/store/tracking/file_store.py\", line 527, in _get_run_info_from_dir\n",
      "    meta = read_yaml(run_dir, FileStore.META_DATA_FILE_NAME)\n",
      "  File \"/home/tiger0xxx/miniconda3/envs/wq/lib/python3.7/site-packages/mlflow/utils/file_utils.py\", line 170, in read_yaml\n",
      "    raise MissingConfigException(\"Yaml file '%s' does not exist.\" % file_path)\n",
      "mlflow.exceptions.MissingConfigException: Yaml file './mlruns/0/.ipynb_checkpoints/meta.yaml' does not exist.\n",
      "WARNING:root:Malformed run '.ipynb_checkpoints'. Detailed error Yaml file './mlruns/0/.ipynb_checkpoints/meta.yaml' does not exist.\n",
      "Traceback (most recent call last):\n",
      "  File \"/home/tiger0xxx/miniconda3/envs/wq/lib/python3.7/site-packages/mlflow/store/tracking/file_store.py\", line 697, in _list_run_infos\n",
      "    run_info = self._get_run_info_from_dir(r_dir)\n",
      "  File \"/home/tiger0xxx/miniconda3/envs/wq/lib/python3.7/site-packages/mlflow/store/tracking/file_store.py\", line 527, in _get_run_info_from_dir\n",
      "    meta = read_yaml(run_dir, FileStore.META_DATA_FILE_NAME)\n",
      "  File \"/home/tiger0xxx/miniconda3/envs/wq/lib/python3.7/site-packages/mlflow/utils/file_utils.py\", line 170, in read_yaml\n",
      "    raise MissingConfigException(\"Yaml file '%s' does not exist.\" % file_path)\n",
      "mlflow.exceptions.MissingConfigException: Yaml file './mlruns/0/.ipynb_checkpoints/meta.yaml' does not exist.\n",
      "^C\n",
      "[2021-04-21 16:49:51 +0530] [1684] [INFO] Handling signal: int\n",
      "[2021-04-21 16:49:51 +0530] [1687] [INFO] Worker exiting (pid: 1687)\n"
     ]
    }
   ],
   "source": [
    "!mlflow ui"
   ]
  }
 ],
 "metadata": {
  "kernelspec": {
   "display_name": "Python 3",
   "language": "python",
   "name": "python3"
  },
  "language_info": {
   "codemirror_mode": {
    "name": "ipython",
    "version": 3
   },
   "file_extension": ".py",
   "mimetype": "text/x-python",
   "name": "python",
   "nbconvert_exporter": "python",
   "pygments_lexer": "ipython3",
   "version": "3.7.10"
  }
 },
 "nbformat": 4,
 "nbformat_minor": 5
}
